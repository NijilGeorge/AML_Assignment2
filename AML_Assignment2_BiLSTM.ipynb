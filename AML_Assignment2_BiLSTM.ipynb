{
  "nbformat": 4,
  "nbformat_minor": 0,
  "metadata": {
    "colab": {
      "name": "AML_Assignment2_BiLSTM.ipynb",
      "provenance": [],
      "authorship_tag": "ABX9TyNLqWg3D+HSpMYURm+JlPwH",
      "include_colab_link": true
    },
    "kernelspec": {
      "name": "python3",
      "display_name": "Python 3"
    },
    "accelerator": "GPU"
  },
  "cells": [
    {
      "cell_type": "markdown",
      "metadata": {
        "id": "view-in-github",
        "colab_type": "text"
      },
      "source": [
        "<a href=\"https://colab.research.google.com/github/NijilGeorge/AML_Assignment2/blob/main/AML_Assignment2_BiLSTM.ipynb\" target=\"_parent\"><img src=\"https://colab.research.google.com/assets/colab-badge.svg\" alt=\"Open In Colab\"/></a>"
      ]
    },
    {
      "cell_type": "code",
      "metadata": {
        "id": "2ox-Dd9yWj1F"
      },
      "source": [
        "from tensorflow.keras.preprocessing.sequence import pad_sequences\n",
        "from tensorflow.keras.layers import Embedding, LSTM, Dense, Dropout, Bidirectional\n",
        "from tensorflow.keras.preprocessing.text import Tokenizer\n",
        "from tensorflow.keras.models import Sequential\n",
        "from tensorflow.keras.optimizers import Adam\n",
        "from tensorflow.keras import regularizers\n",
        "import tensorflow.keras.utils as ku \n",
        "import numpy as np"
      ],
      "execution_count": 3,
      "outputs": []
    },
    {
      "cell_type": "code",
      "metadata": {
        "colab": {
          "base_uri": "https://localhost:8080/"
        },
        "id": "9xKVU0EmXMhx",
        "outputId": "0aa7713e-2860-4bbc-c5d1-b95e1fdf75a9"
      },
      "source": [
        "tokenizer = Tokenizer()\n",
        "from google.colab import drive\n",
        "drive.mount('/content/drive')\n",
        "import os\n",
        "# input_dir=\"/content/drive/My Drive/deep_learning_assignment/training/data/\"\n",
        "data = open('/content/drive/My Drive/Assignment2/Gutenberg_EBook.txt').read()\n",
        "\n",
        "corpus = data.lower().split(\"\\n\")\n",
        "\n",
        "tokenizer.fit_on_texts(corpus)\n",
        "total_words = len(tokenizer.word_index) + 1"
      ],
      "execution_count": 4,
      "outputs": [
        {
          "output_type": "stream",
          "text": [
            "Mounted at /content/drive\n"
          ],
          "name": "stdout"
        }
      ]
    },
    {
      "cell_type": "code",
      "metadata": {
        "id": "84Zfgs_uXSjT"
      },
      "source": [
        "# create input sequences using list of tokens\n",
        "input_sequences = []\n",
        "for line in corpus:\n",
        "    token_list = tokenizer.texts_to_sequences([line])[0]\n",
        "    for i in range(1, len(token_list)):\n",
        "        n_gram_sequence = token_list[:i+1]\n",
        "        input_sequences.append(n_gram_sequence)"
      ],
      "execution_count": 5,
      "outputs": []
    },
    {
      "cell_type": "code",
      "metadata": {
        "id": "dtemGkDIXVVo"
      },
      "source": [
        "# pad sequences \n",
        "max_sequence_len = max([len(x) for x in input_sequences])\n",
        "input_sequences = np.array(pad_sequences(input_sequences, maxlen=max_sequence_len, padding='pre'))"
      ],
      "execution_count": 6,
      "outputs": []
    },
    {
      "cell_type": "code",
      "metadata": {
        "id": "tMcX5rcyXXyL"
      },
      "source": [
        "# create predictors and label\n",
        "predictors, label = input_sequences[:,:-1],input_sequences[:,-1]\n",
        "label = ku.to_categorical(label, num_classes=total_words)"
      ],
      "execution_count": 7,
      "outputs": []
    },
    {
      "cell_type": "code",
      "metadata": {
        "id": "ZKXcAhjXeisu"
      },
      "source": [
        "#use if pretrained embeddings are used\n",
        "embedding_dictionary=dict()\n",
        "glove_file=open(\"/content/drive/My Drive/AML_Assignment2/glove.6B.100d.txt\");\n",
        "for line in glove_file:\n",
        "  records=line.split()\n",
        "  # print(records)\n",
        "  word=records[0]\n",
        "  vector=np.array(records[1:],dtype=\"float32\")\n",
        "  embedding_dictionary[word]=vector\n",
        "glove_file.close()"
      ],
      "execution_count": null,
      "outputs": []
    },
    {
      "cell_type": "code",
      "metadata": {
        "id": "xLVGfmAke4kU"
      },
      "source": [
        "#use if pretrained embeddings are used\n",
        "embedding_matrix=np.zeros((vocal_size,100))\n",
        "for word,index in tokenizer.word_index.items():\n",
        "  embedding_vector =embedding_dictionary.get(word)\n",
        "  if embedding_vector is not None :\n",
        "    embedding_matrix[index]=embedding_vector"
      ],
      "execution_count": null,
      "outputs": []
    },
    {
      "cell_type": "code",
      "metadata": {
        "id": "KAD-aZWtkYXU"
      },
      "source": [
        ""
      ],
      "execution_count": null,
      "outputs": []
    },
    {
      "cell_type": "code",
      "metadata": {
        "colab": {
          "base_uri": "https://localhost:8080/"
        },
        "id": "9it_35FEXa1q",
        "outputId": "63869047-0268-4f76-89be-42a4a52545d8"
      },
      "source": [
        "model = Sequential()\n",
        "model.add(Embedding(total_words, 100, input_length=max_sequence_len-1))\n",
        "model.add(Bidirectional(LSTM(150, return_sequences = True)))\n",
        "model.add(Dropout(0.2))\n",
        "model.add(LSTM(100))\n",
        "model.add(Dense(total_words/2, activation='relu', kernel_regularizer=regularizers.l2(0.01)))\n",
        "model.add(Dense(total_words, activation='softmax'))\n",
        "model.load_weights('/content/drive/My Drive/Assignment2/saved_model/')\n",
        "model.compile(loss='categorical_crossentropy', optimizer='adam', metrics=['accuracy'])\n",
        "print(model.summary())"
      ],
      "execution_count": 21,
      "outputs": [
        {
          "output_type": "stream",
          "text": [
            "Model: \"sequential_2\"\n",
            "_________________________________________________________________\n",
            "Layer (type)                 Output Shape              Param #   \n",
            "=================================================================\n",
            "embedding_2 (Embedding)      (None, 16, 100)           305500    \n",
            "_________________________________________________________________\n",
            "bidirectional_2 (Bidirection (None, 16, 300)           301200    \n",
            "_________________________________________________________________\n",
            "dropout_2 (Dropout)          (None, 16, 300)           0         \n",
            "_________________________________________________________________\n",
            "lstm_5 (LSTM)                (None, 100)               160400    \n",
            "_________________________________________________________________\n",
            "dense_4 (Dense)              (None, 1527)              154227    \n",
            "_________________________________________________________________\n",
            "dense_5 (Dense)              (None, 3055)              4668040   \n",
            "=================================================================\n",
            "Total params: 5,589,367\n",
            "Trainable params: 5,589,367\n",
            "Non-trainable params: 0\n",
            "_________________________________________________________________\n",
            "None\n"
          ],
          "name": "stdout"
        }
      ]
    },
    {
      "cell_type": "code",
      "metadata": {
        "colab": {
          "base_uri": "https://localhost:8080/"
        },
        "id": "sieYlu4DXc5q",
        "outputId": "32488426-4459-4e07-defb-40def08cb5f7"
      },
      "source": [
        "history = model.fit(predictors, label, epochs=30, verbose=1)"
      ],
      "execution_count": 22,
      "outputs": [
        {
          "output_type": "stream",
          "text": [
            "Epoch 1/30\n",
            "720/720 [==============================] - 23s 32ms/step - loss: 1.5328 - accuracy: 0.6977\n",
            "Epoch 2/30\n",
            "720/720 [==============================] - 23s 32ms/step - loss: 1.5314 - accuracy: 0.6978\n",
            "Epoch 3/30\n",
            "720/720 [==============================] - 23s 32ms/step - loss: 1.5030 - accuracy: 0.7059\n",
            "Epoch 4/30\n",
            "720/720 [==============================] - 23s 32ms/step - loss: 1.5067 - accuracy: 0.7042\n",
            "Epoch 5/30\n",
            "720/720 [==============================] - 23s 32ms/step - loss: 1.4981 - accuracy: 0.7064\n",
            "Epoch 6/30\n",
            "720/720 [==============================] - 23s 32ms/step - loss: 1.4846 - accuracy: 0.7073\n",
            "Epoch 7/30\n",
            "720/720 [==============================] - 23s 32ms/step - loss: 1.4629 - accuracy: 0.7155\n",
            "Epoch 8/30\n",
            "720/720 [==============================] - 23s 32ms/step - loss: 1.4578 - accuracy: 0.7126\n",
            "Epoch 9/30\n",
            "720/720 [==============================] - 23s 32ms/step - loss: 1.4611 - accuracy: 0.7132\n",
            "Epoch 10/30\n",
            "720/720 [==============================] - 23s 32ms/step - loss: 1.4380 - accuracy: 0.7184\n",
            "Epoch 11/30\n",
            "720/720 [==============================] - 23s 32ms/step - loss: 1.4249 - accuracy: 0.7218\n",
            "Epoch 12/30\n",
            "720/720 [==============================] - 23s 32ms/step - loss: 1.4205 - accuracy: 0.7214\n",
            "Epoch 13/30\n",
            "720/720 [==============================] - 23s 32ms/step - loss: 1.4105 - accuracy: 0.7247\n",
            "Epoch 14/30\n",
            "720/720 [==============================] - 23s 32ms/step - loss: 1.4180 - accuracy: 0.7211\n",
            "Epoch 15/30\n",
            "720/720 [==============================] - 23s 32ms/step - loss: 1.3859 - accuracy: 0.7311\n",
            "Epoch 16/30\n",
            "720/720 [==============================] - 23s 32ms/step - loss: 1.3643 - accuracy: 0.7341\n",
            "Epoch 17/30\n",
            "720/720 [==============================] - 23s 32ms/step - loss: 1.3759 - accuracy: 0.7299\n",
            "Epoch 18/30\n",
            "720/720 [==============================] - 23s 32ms/step - loss: 1.3612 - accuracy: 0.7348\n",
            "Epoch 19/30\n",
            "720/720 [==============================] - 23s 32ms/step - loss: 1.3473 - accuracy: 0.7387\n",
            "Epoch 20/30\n",
            "720/720 [==============================] - 23s 32ms/step - loss: 1.3520 - accuracy: 0.7357\n",
            "Epoch 21/30\n",
            "720/720 [==============================] - 23s 32ms/step - loss: 1.3468 - accuracy: 0.7382\n",
            "Epoch 22/30\n",
            "720/720 [==============================] - 23s 32ms/step - loss: 1.3303 - accuracy: 0.7423\n",
            "Epoch 23/30\n",
            "720/720 [==============================] - 23s 32ms/step - loss: 1.3308 - accuracy: 0.7404\n",
            "Epoch 24/30\n",
            "720/720 [==============================] - 23s 32ms/step - loss: 1.3113 - accuracy: 0.7451\n",
            "Epoch 25/30\n",
            "720/720 [==============================] - 23s 32ms/step - loss: 1.2978 - accuracy: 0.7501\n",
            "Epoch 26/30\n",
            "720/720 [==============================] - 23s 32ms/step - loss: 1.3074 - accuracy: 0.7457\n",
            "Epoch 27/30\n",
            "720/720 [==============================] - 23s 32ms/step - loss: 1.3074 - accuracy: 0.7457\n",
            "Epoch 28/30\n",
            "720/720 [==============================] - 23s 32ms/step - loss: 1.2752 - accuracy: 0.7551\n",
            "Epoch 29/30\n",
            "720/720 [==============================] - 23s 32ms/step - loss: 1.2774 - accuracy: 0.7534\n",
            "Epoch 30/30\n",
            "720/720 [==============================] - 23s 32ms/step - loss: 1.2787 - accuracy: 0.7529\n"
          ],
          "name": "stdout"
        }
      ]
    },
    {
      "cell_type": "code",
      "metadata": {
        "id": "Iqogo4CAkIRA"
      },
      "source": [
        "model.save_weights('/content/drive/My Drive/Assignment2/saved_model/')"
      ],
      "execution_count": 23,
      "outputs": []
    },
    {
      "cell_type": "code",
      "metadata": {
        "colab": {
          "base_uri": "https://localhost:8080/",
          "height": 545
        },
        "id": "6jcJ2DNgXfbi",
        "outputId": "4d05d8ab-28d7-4c25-8b0a-78e62482cb86"
      },
      "source": [
        "import matplotlib.pyplot as plt\n",
        "acc = history.history['accuracy']\n",
        "loss = history.history['loss']\n",
        "epochs = range(len(acc))\n",
        "plt.plot(epochs, acc, 'b', label='Training accuracy')\n",
        "plt.title('Training accuracy')\n",
        "plt.figure()\n",
        "plt.plot(epochs, loss, 'b', label='Training Loss')\n",
        "plt.title('Training loss')\n",
        "plt.legend()\n",
        "plt.show()"
      ],
      "execution_count": 24,
      "outputs": [
        {
          "output_type": "display_data",
          "data": {
            "image/png": "[encoded data removed]",
            "text/plain": [
              "<Figure size 432x288 with 1 Axes>"
            ]
          },
          "metadata": {
            "tags": [],
            "needs_background": "light"
          }
        },
        {
          "output_type": "display_data",
          "data": {
            "image/png": "[encoded data removed]",
            "text/plain": [
              "<Figure size 432x288 with 1 Axes>"
            ]
          },
          "metadata": {
            "tags": [],
            "needs_background": "light"
          }
        }
      ]
    },
    {
      "cell_type": "code",
      "metadata": {
        "id": "kw0Qi4v5Xhfo"
      },
      "source": [
        "seed_text = \"Help me Obi Wan Kenobi, you're my only hope\"\n",
        "next_words = 100"
      ],
      "execution_count": 25,
      "outputs": []
    },
    {
      "cell_type": "code",
      "metadata": {
        "colab": {
          "base_uri": "https://localhost:8080/"
        },
        "id": "gUYOE_-iXjA_",
        "outputId": "7b3a3c91-7960-4a81-91ff-c915a1ce6b21"
      },
      "source": [
        "for _ in range(next_words):\n",
        "\ttoken_list = tokenizer.texts_to_sequences([seed_text])[0]\n",
        "\ttoken_list = pad_sequences([token_list], maxlen=max_sequence_len-1, padding='pre')\n",
        "\tpredicted = model.predict_classes(token_list, verbose=0)\n",
        "\toutput_word = \"\"\n",
        "\tfor word, index in tokenizer.word_index.items():\n",
        "\t\tif index == predicted:\n",
        "\t\t\toutput_word = word\n",
        "\t\t\tbreak\n",
        "\tseed_text += \" \" + output_word\n",
        "print(seed_text)"
      ],
      "execution_count": 26,
      "outputs": [
        {
          "output_type": "stream",
          "text": [
            "Help me Obi Wan Kenobi, you're my only hope i've got into the habit of putting things into this b agreement violates the chief clerk michael room along with the project gutenberg clerk's firm where set posted on that there were on his sister's below suggested the chief clerk called it would climb up to the door and look was ill the window left everyone out to be last night at the dirt were the foundation immediately following the table at all look at the table with her arms describing on the front door and is committed to provide volunteers to the full room playing they were standing up\n"
          ],
          "name": "stdout"
        }
      ]
    }
  ]
}